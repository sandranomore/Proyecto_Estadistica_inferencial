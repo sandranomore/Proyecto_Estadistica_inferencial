{
 "cells": [
  {
   "cell_type": "markdown",
   "metadata": {},
   "source": [
    "## Ejercicios Pair Programming Pandas\n",
    "\n",
    "1. ¿Qué diferencia hay entre una Serie y un DataFrame?"
   ]
  },
  {
   "cell_type": "markdown",
   "metadata": {},
   "source": [
    "**La serie es una estructura unidimensional y solo puede contener una tipología de datos única, y un dataframe tiene mayor dimensión y puede contener más tipos de datos.**"
   ]
  },
  {
   "cell_type": "markdown",
   "metadata": {},
   "source": [
    "2. Momento de trabajar con Series. Contesta a las siguientes preguntas:\n",
    "\n",
    "- Crea dos listas:\n",
    "\n",
    "Una que se llame \"valores\" que tenga 7 números aleatorios.\n",
    "\n",
    "Otra que se llame \"indices\" que tenga 7 strings que se llamen como los días de la semana."
   ]
  },
  {
   "cell_type": "code",
   "execution_count": 1,
   "metadata": {},
   "outputs": [],
   "source": [
    "#Importo librerías para trabajar.\n",
    "import numpy as np\n",
    "import pandas as pd"
   ]
  },
  {
   "cell_type": "code",
   "execution_count": 2,
   "metadata": {},
   "outputs": [
    {
     "name": "stdout",
     "output_type": "stream",
     "text": [
      "[1, 3, 3, 1, 0, 2, 4]\n",
      "['lunes', 'martes', 'miercoles', 'jueves', 'viernes', 'sabado', 'domingo']\n"
     ]
    }
   ],
   "source": [
    "#Creo un array unidimensional con números aleatorios.\n",
    "valores = np.random.randint(0, 8, 7)\n",
    "\n",
    "#Convierto el array a lista.\n",
    "lista_valores = list(valores)\n",
    "print(lista_valores)\n",
    "\n",
    "#Creo la segunda lista.\n",
    "indices =  ['lunes', 'martes', 'miercoles', 'jueves', 'viernes', 'sabado', 'domingo']\n",
    "print(indices)"
   ]
  },
  {
   "cell_type": "markdown",
   "metadata": {},
   "source": [
    "- A partir de estas dos listas crea una Serie donde la variable \"valores\" sean los valores de la Serie y la variable indices sean los índices de la Serie."
   ]
  },
  {
   "cell_type": "code",
   "execution_count": 3,
   "metadata": {},
   "outputs": [
    {
     "data": {
      "text/plain": [
       "lunes        1\n",
       "martes       3\n",
       "miercoles    3\n",
       "jueves       1\n",
       "viernes      0\n",
       "sabado       2\n",
       "domingo      4\n",
       "dtype: int64"
      ]
     },
     "execution_count": 3,
     "metadata": {},
     "output_type": "execute_result"
    }
   ],
   "source": [
    "serie = pd.Series(valores, index=indices)\n",
    "serie"
   ]
  },
  {
   "cell_type": "markdown",
   "metadata": {},
   "source": [
    "- A partir de las dos listas anteriores crea un diccionario usando un bucle for. Para hacer esto tenemos el método zip que nos permite iterar por dos listas a la vez. Más información sobre este método aquí."
   ]
  },
  {
   "cell_type": "code",
   "execution_count": 4,
   "metadata": {},
   "outputs": [
    {
     "name": "stdout",
     "output_type": "stream",
     "text": [
      "{'lunes': 1, 'martes': 3, 'miercoles': 3, 'jueves': 1, 'viernes': 0, 'sabado': 2, 'domingo': 4}\n"
     ]
    }
   ],
   "source": [
    "diccionario = {}\n",
    "for indice, valor in zip(indices, valores):\n",
    "    diccionario[indice]= valor\n",
    "\n",
    "print(diccionario)"
   ]
  },
  {
   "cell_type": "markdown",
   "metadata": {},
   "source": [
    "- Crea una Serie con el diccionario creado en el punto anterior.\n",
    "\n",
    "    - ¿Qué forma tiene esta última Serie?\n",
    "\n",
    "    - ¿Qué tipo de datos tiene?\n",
    "\n",
    "    -  ¿Qué tamaño tiene?\n",
    "\n",
    "    - ¿Cuáles son los índices de la Serie?\n",
    "\n",
    "    - ¿Y los values?\n",
    "\n",
    "    - Extrae el valor para el índice \"lunes\"\n",
    "\n",
    "    - Extrae el valor para el índice \"lunes\", \"martes\" y \"miércoles\".\n",
    "\n",
    "    - Extrae el valor para el índice \"lunes\" y \"domingo\"."
   ]
  },
  {
   "cell_type": "code",
   "execution_count": 5,
   "metadata": {},
   "outputs": [
    {
     "name": "stdout",
     "output_type": "stream",
     "text": [
      "lunes        1\n",
      "martes       3\n",
      "miercoles    3\n",
      "jueves       1\n",
      "viernes      0\n",
      "sabado       2\n",
      "domingo      4\n",
      "dtype: int64\n",
      "_____________________________________________\n",
      "(7,)\n",
      "_____________________________________________\n",
      "int64\n",
      "_____________________________________________\n",
      "7\n",
      "_____________________________________________\n",
      "Index(['lunes', 'martes', 'miercoles', 'jueves', 'viernes', 'sabado',\n",
      "       'domingo'],\n",
      "      dtype='object')\n",
      "_____________________________________________\n",
      "[1 3 3 1 0 2 4]\n",
      "_____________________________________________\n",
      "1\n",
      "_____________________________________________\n",
      "lunes        1\n",
      "martes       3\n",
      "miercoles    3\n",
      "dtype: int64\n",
      "_____________________________________________\n",
      "lunes      1\n",
      "domingo    4\n",
      "dtype: int64\n",
      "_____________________________________________\n",
      "lunes      1\n",
      "domingo    4\n",
      "dtype: int64\n"
     ]
    },
    {
     "name": "stderr",
     "output_type": "stream",
     "text": [
      "/var/folders/cn/ktnmjcx51q78z4lts32htjr00000gn/T/ipykernel_32651/1817468304.py:36: FutureWarning: Series.__getitem__ treating keys as positions is deprecated. In a future version, integer keys will always be treated as labels (consistent with DataFrame behavior). To access a value by position, use `ser.iloc[pos]`\n",
      "  print(serie[[0,6]])\n"
     ]
    }
   ],
   "source": [
    "serie = pd.Series(diccionario)\n",
    "print(serie)\n",
    "\n",
    "print('_____________________________________________')\n",
    "#muestro la forma, en este caso unidimensional.\n",
    "print(serie.shape)\n",
    "\n",
    "print('_____________________________________________')\n",
    "#muestro el tipo de datos\n",
    "print(serie.dtype)\n",
    "\n",
    "print('_____________________________________________')\n",
    "#muestro el tamaño\n",
    "print(serie.size)\n",
    "\n",
    "print('_____________________________________________')\n",
    "#muestro el índice\n",
    "print(serie.index)\n",
    "\n",
    "print('_____________________________________________')\n",
    "#muestro los valores\n",
    "print(serie.values)\n",
    "\n",
    "print('_____________________________________________')\n",
    "#busco el valor del índice lunes.\n",
    "print(serie['lunes'])\n",
    "\n",
    "print('_____________________________________________')\n",
    "#busco el valor del índice lunes, martes, miércoles.\n",
    "print(serie[['lunes', 'martes', 'miercoles']])\n",
    "\n",
    "print('_____________________________________________')\n",
    "#busco el valor del índice lunes y domingo.\n",
    "print(serie[['lunes', 'domingo']])\n",
    "print('_____________________________________________')\n",
    "print(serie[[0,6]])"
   ]
  },
  {
   "cell_type": "markdown",
   "metadata": {},
   "source": [
    "3. Es el turno de los DataFrames\n",
    "\n",
    "- Crea un array de dos dimensiones con 4 filas y 3 columnas.\n",
    "\n",
    "- Convierte el array en un DataFrame donde las columnas se llamen \"España\", \"Francia\" e \"Italia\".\n",
    "\n",
    "- Descarga el archivo \"medallas\" y carga el DataFrame."
   ]
  },
  {
   "cell_type": "code",
   "execution_count": 6,
   "metadata": {},
   "outputs": [
    {
     "name": "stdout",
     "output_type": "stream",
     "text": [
      "[[-2.68156159e+154 -1.73059829e-077  2.96439388e-323]\n",
      " [ 0.00000000e+000  0.00000000e+000  0.00000000e+000]\n",
      " [ 0.00000000e+000  0.00000000e+000  0.00000000e+000]\n",
      " [ 2.57726435e-312  2.32035295e+077  8.38737051e-309]]\n",
      "_____________________________________________\n",
      "          España       Francia         Italia\n",
      "0 -2.681562e+154 -1.730598e-77  2.964394e-323\n",
      "1   0.000000e+00  0.000000e+00   0.000000e+00\n",
      "2   0.000000e+00  0.000000e+00   0.000000e+00\n",
      "3  2.577264e-312  2.320353e+77  8.387371e-309\n",
      "_____________________________________________\n",
      "               País   Oro  Plata  Bronce\n",
      "1             China  1473    994     720\n",
      "2             Japón  1032   1037     985\n",
      "3     Corea del Sur   745    663     827\n",
      "4              Irán   179    181     197\n",
      "5        Kazajistán   155    158     224\n",
      "6             India   154    202     315\n",
      "7         Tailandia   132    175     278\n",
      "8         Indonesia   112    131     240\n",
      "9      China Taipéi    99    144     276\n",
      "10  Corea del Norte    91    120     235\n"
     ]
    }
   ],
   "source": [
    "#Creo el array vacío de las dimensiones que pide el enunciado.\n",
    "array2D = np.empty((4,3))\n",
    "print(array2D)\n",
    "\n",
    "print('_____________________________________________')\n",
    "#Lo convierto a DataFrame\n",
    "df_paises = pd.DataFrame(array2D, columns=['España', 'Francia', 'Italia'])\n",
    "print(df_paises)\n",
    "\n",
    "print('_____________________________________________')\n",
    "#Leo el csv de medallas\n",
    "df_medallas = pd.read_csv('medallas.csv', index_col=0)\n",
    "print(df_medallas)\n",
    "\n"
   ]
  },
  {
   "cell_type": "markdown",
   "metadata": {},
   "source": [
    "- Usando el loc extrae todas las columnas de la fila de Tailandia.\n",
    "\n",
    "- Usando el loc extrae todas las columnas de China e Irán.\n",
    "\n",
    "- Usando el loc extrae solo las columnas de \"Oro\", \"Plata\" y \"Bronce\" de China e Irán."
   ]
  },
  {
   "cell_type": "code",
   "execution_count": 7,
   "metadata": {},
   "outputs": [
    {
     "name": "stdout",
     "output_type": "stream",
     "text": [
      "        País  Oro  Plata  Bronce\n",
      "7  Tailandia  132    175     278\n",
      "_____________________________________________\n",
      "    País   Oro  Plata  Bronce\n",
      "1  China  1473    994     720\n",
      "4   Irán   179    181     197\n",
      "_____________________________________________\n"
     ]
    },
    {
     "data": {
      "text/html": [
       "<div>\n",
       "<style scoped>\n",
       "    .dataframe tbody tr th:only-of-type {\n",
       "        vertical-align: middle;\n",
       "    }\n",
       "\n",
       "    .dataframe tbody tr th {\n",
       "        vertical-align: top;\n",
       "    }\n",
       "\n",
       "    .dataframe thead th {\n",
       "        text-align: right;\n",
       "    }\n",
       "</style>\n",
       "<table border=\"1\" class=\"dataframe\">\n",
       "  <thead>\n",
       "    <tr style=\"text-align: right;\">\n",
       "      <th></th>\n",
       "      <th>Oro</th>\n",
       "      <th>Plata</th>\n",
       "      <th>Bronce</th>\n",
       "    </tr>\n",
       "  </thead>\n",
       "  <tbody>\n",
       "    <tr>\n",
       "      <th>1</th>\n",
       "      <td>1473</td>\n",
       "      <td>994</td>\n",
       "      <td>720</td>\n",
       "    </tr>\n",
       "    <tr>\n",
       "      <th>4</th>\n",
       "      <td>179</td>\n",
       "      <td>181</td>\n",
       "      <td>197</td>\n",
       "    </tr>\n",
       "  </tbody>\n",
       "</table>\n",
       "</div>"
      ],
      "text/plain": [
       "    Oro  Plata  Bronce\n",
       "1  1473    994     720\n",
       "4   179    181     197"
      ]
     },
     "execution_count": 7,
     "metadata": {},
     "output_type": "execute_result"
    }
   ],
   "source": [
    "#Busco la fila País que cumpla con la condición Tailandia.\n",
    "tailandia = df_medallas.loc[df_medallas.País == 'Tailandia']\n",
    "print(tailandia)\n",
    "\n",
    "print('_____________________________________________')\n",
    "\n",
    "#Busco la fila País que cumpla con la condición de China o Irán.\n",
    "china_iran = df_medallas.loc[(df_medallas.País == 'China') | (df_medallas.País == 'Irán')]\n",
    "print(china_iran)\n",
    "\n",
    "#Busco la fila País que cumpla con la condición de China o Irán, y busco las columnas de Oro, Plata y Bronce.\n",
    "print('_____________________________________________')\n",
    "medallas_china_iran = df_medallas.loc[(df_medallas.País == 'China') | (df_medallas.País == 'Irán'), ['Oro', 'Plata', 'Bronce']]\n",
    "medallas_china_iran\n"
   ]
  },
  {
   "cell_type": "markdown",
   "metadata": {},
   "source": [
    "- Usando el iloc extrae la información de la India. Devolved todas las columnas.\n",
    "\n",
    "- Usando el iloc extrae todas las columnas de los paises que estén en posición impar. La primera que nos tendría que salir es Japón y la última Corea del Norte.\n",
    "\n",
    "- Utilizando el código del ejercicio anterior, selecciona unicamente las columnas \"Oro\", \"Plata\" y \"Bronce\"."
   ]
  },
  {
   "cell_type": "code",
   "execution_count": 8,
   "metadata": {},
   "outputs": [
    {
     "name": "stdout",
     "output_type": "stream",
     "text": [
      "País      India\n",
      "Oro         154\n",
      "Plata       202\n",
      "Bronce      315\n",
      "Name: 6, dtype: object\n",
      "_____________________________________________\n",
      "               País   Oro  Plata  Bronce\n",
      "2             Japón  1032   1037     985\n",
      "4              Irán   179    181     197\n",
      "6             India   154    202     315\n",
      "8         Indonesia   112    131     240\n",
      "10  Corea del Norte    91    120     235\n",
      "_____________________________________________\n",
      "     Oro  Plata  Bronce\n",
      "2   1032   1037     985\n",
      "4    179    181     197\n",
      "6    154    202     315\n",
      "8    112    131     240\n",
      "10    91    120     235\n"
     ]
    }
   ],
   "source": [
    "#Busco todas las columnas de la India.\n",
    "india = df_medallas.iloc[5]\n",
    "print(india)\n",
    "\n",
    "print('_____________________________________________')\n",
    "\n",
    "#Busco todas las columnas de los paises en posición impar.\n",
    "impares = df_medallas.iloc[1::2]\n",
    "print(impares)\n",
    "\n",
    "#Busco todas las medallas de los paises en posición impar.\n",
    "print('_____________________________________________')\n",
    "medallas_impares = df_medallas.iloc[1::2, 1:4]\n",
    "print(medallas_impares)"
   ]
  },
  {
   "cell_type": "markdown",
   "metadata": {},
   "source": [
    "- Contesta a las siguientes preguntas:\n",
    "\n",
    "    - ¿Qué país consiguió más de 200 medallas de oro?\n",
    "\n",
    "    - ¿Qué país consiguió más de 200 medallas de oro y más de 1000 de plata?\n",
    "\n",
    "    - ¿Qué país consiguió más de 200 medallas de oro o más de 700 de bronce?"
   ]
  },
  {
   "cell_type": "code",
   "execution_count": 9,
   "metadata": {},
   "outputs": [
    {
     "data": {
      "text/html": [
       "<div>\n",
       "<style scoped>\n",
       "    .dataframe tbody tr th:only-of-type {\n",
       "        vertical-align: middle;\n",
       "    }\n",
       "\n",
       "    .dataframe tbody tr th {\n",
       "        vertical-align: top;\n",
       "    }\n",
       "\n",
       "    .dataframe thead th {\n",
       "        text-align: right;\n",
       "    }\n",
       "</style>\n",
       "<table border=\"1\" class=\"dataframe\">\n",
       "  <thead>\n",
       "    <tr style=\"text-align: right;\">\n",
       "      <th></th>\n",
       "      <th>País</th>\n",
       "      <th>Oro</th>\n",
       "    </tr>\n",
       "  </thead>\n",
       "  <tbody>\n",
       "    <tr>\n",
       "      <th>1</th>\n",
       "      <td>China</td>\n",
       "      <td>1473</td>\n",
       "    </tr>\n",
       "    <tr>\n",
       "      <th>2</th>\n",
       "      <td>Japón</td>\n",
       "      <td>1032</td>\n",
       "    </tr>\n",
       "    <tr>\n",
       "      <th>3</th>\n",
       "      <td>Corea del Sur</td>\n",
       "      <td>745</td>\n",
       "    </tr>\n",
       "  </tbody>\n",
       "</table>\n",
       "</div>"
      ],
      "text/plain": [
       "            País   Oro\n",
       "1          China  1473\n",
       "2          Japón  1032\n",
       "3  Corea del Sur   745"
      ]
     },
     "execution_count": 9,
     "metadata": {},
     "output_type": "execute_result"
    }
   ],
   "source": [
    "#Busco los Paises con más de 200 medallas de oro, filtrando por esa condición.\n",
    "medallas_oro = df_medallas.loc[(df_medallas['Oro']> 200), ['País', 'Oro']]\n",
    "medallas_oro"
   ]
  },
  {
   "cell_type": "code",
   "execution_count": 10,
   "metadata": {},
   "outputs": [
    {
     "data": {
      "text/html": [
       "<div>\n",
       "<style scoped>\n",
       "    .dataframe tbody tr th:only-of-type {\n",
       "        vertical-align: middle;\n",
       "    }\n",
       "\n",
       "    .dataframe tbody tr th {\n",
       "        vertical-align: top;\n",
       "    }\n",
       "\n",
       "    .dataframe thead th {\n",
       "        text-align: right;\n",
       "    }\n",
       "</style>\n",
       "<table border=\"1\" class=\"dataframe\">\n",
       "  <thead>\n",
       "    <tr style=\"text-align: right;\">\n",
       "      <th></th>\n",
       "      <th>País</th>\n",
       "      <th>Oro</th>\n",
       "      <th>Plata</th>\n",
       "    </tr>\n",
       "  </thead>\n",
       "  <tbody>\n",
       "    <tr>\n",
       "      <th>2</th>\n",
       "      <td>Japón</td>\n",
       "      <td>1032</td>\n",
       "      <td>1037</td>\n",
       "    </tr>\n",
       "  </tbody>\n",
       "</table>\n",
       "</div>"
      ],
      "text/plain": [
       "    País   Oro  Plata\n",
       "2  Japón  1032   1037"
      ]
     },
     "execution_count": 10,
     "metadata": {},
     "output_type": "execute_result"
    }
   ],
   "source": [
    "#Paises con más de 200 medallas de oro y más de 1000 de plata, filtrando por esas dos condiciones.\n",
    "medallas_oro_plata = df_medallas.loc[(df_medallas.Oro > 200) & (df_medallas.Plata > 1000), ['País', 'Oro', 'Plata']]\n",
    "medallas_oro_plata"
   ]
  },
  {
   "cell_type": "code",
   "execution_count": 11,
   "metadata": {},
   "outputs": [
    {
     "data": {
      "text/html": [
       "<div>\n",
       "<style scoped>\n",
       "    .dataframe tbody tr th:only-of-type {\n",
       "        vertical-align: middle;\n",
       "    }\n",
       "\n",
       "    .dataframe tbody tr th {\n",
       "        vertical-align: top;\n",
       "    }\n",
       "\n",
       "    .dataframe thead th {\n",
       "        text-align: right;\n",
       "    }\n",
       "</style>\n",
       "<table border=\"1\" class=\"dataframe\">\n",
       "  <thead>\n",
       "    <tr style=\"text-align: right;\">\n",
       "      <th></th>\n",
       "      <th>País</th>\n",
       "      <th>Oro</th>\n",
       "      <th>Bronce</th>\n",
       "    </tr>\n",
       "  </thead>\n",
       "  <tbody>\n",
       "    <tr>\n",
       "      <th>1</th>\n",
       "      <td>China</td>\n",
       "      <td>1473</td>\n",
       "      <td>720</td>\n",
       "    </tr>\n",
       "    <tr>\n",
       "      <th>2</th>\n",
       "      <td>Japón</td>\n",
       "      <td>1032</td>\n",
       "      <td>985</td>\n",
       "    </tr>\n",
       "    <tr>\n",
       "      <th>3</th>\n",
       "      <td>Corea del Sur</td>\n",
       "      <td>745</td>\n",
       "      <td>827</td>\n",
       "    </tr>\n",
       "  </tbody>\n",
       "</table>\n",
       "</div>"
      ],
      "text/plain": [
       "            País   Oro  Bronce\n",
       "1          China  1473     720\n",
       "2          Japón  1032     985\n",
       "3  Corea del Sur   745     827"
      ]
     },
     "execution_count": 11,
     "metadata": {},
     "output_type": "execute_result"
    }
   ],
   "source": [
    "#Busco los paises con más de 200 medallas de oro o más de 700 de bronce, filtrando por esas dos condiciones.\n",
    "medallas_oro_bronce = df_medallas.loc[(df_medallas.Oro > 200) | (df_medallas.Bronce > 700), ['País', 'Oro', 'Bronce']]\n",
    "medallas_oro_bronce"
   ]
  },
  {
   "cell_type": "markdown",
   "metadata": {},
   "source": [
    "- Crea una nueva columma que se llame \"total\" que sea el resultado de la suma de todas las medallas obtenidas por cada país."
   ]
  },
  {
   "cell_type": "code",
   "execution_count": 12,
   "metadata": {},
   "outputs": [
    {
     "data": {
      "text/html": [
       "<div>\n",
       "<style scoped>\n",
       "    .dataframe tbody tr th:only-of-type {\n",
       "        vertical-align: middle;\n",
       "    }\n",
       "\n",
       "    .dataframe tbody tr th {\n",
       "        vertical-align: top;\n",
       "    }\n",
       "\n",
       "    .dataframe thead th {\n",
       "        text-align: right;\n",
       "    }\n",
       "</style>\n",
       "<table border=\"1\" class=\"dataframe\">\n",
       "  <thead>\n",
       "    <tr style=\"text-align: right;\">\n",
       "      <th></th>\n",
       "      <th>País</th>\n",
       "      <th>Oro</th>\n",
       "      <th>Plata</th>\n",
       "      <th>Bronce</th>\n",
       "      <th>Total</th>\n",
       "    </tr>\n",
       "  </thead>\n",
       "  <tbody>\n",
       "    <tr>\n",
       "      <th>1</th>\n",
       "      <td>China</td>\n",
       "      <td>1473</td>\n",
       "      <td>994</td>\n",
       "      <td>720</td>\n",
       "      <td>3187</td>\n",
       "    </tr>\n",
       "    <tr>\n",
       "      <th>2</th>\n",
       "      <td>Japón</td>\n",
       "      <td>1032</td>\n",
       "      <td>1037</td>\n",
       "      <td>985</td>\n",
       "      <td>3054</td>\n",
       "    </tr>\n",
       "    <tr>\n",
       "      <th>3</th>\n",
       "      <td>Corea del Sur</td>\n",
       "      <td>745</td>\n",
       "      <td>663</td>\n",
       "      <td>827</td>\n",
       "      <td>2235</td>\n",
       "    </tr>\n",
       "    <tr>\n",
       "      <th>4</th>\n",
       "      <td>Irán</td>\n",
       "      <td>179</td>\n",
       "      <td>181</td>\n",
       "      <td>197</td>\n",
       "      <td>557</td>\n",
       "    </tr>\n",
       "    <tr>\n",
       "      <th>5</th>\n",
       "      <td>Kazajistán</td>\n",
       "      <td>155</td>\n",
       "      <td>158</td>\n",
       "      <td>224</td>\n",
       "      <td>537</td>\n",
       "    </tr>\n",
       "    <tr>\n",
       "      <th>6</th>\n",
       "      <td>India</td>\n",
       "      <td>154</td>\n",
       "      <td>202</td>\n",
       "      <td>315</td>\n",
       "      <td>671</td>\n",
       "    </tr>\n",
       "    <tr>\n",
       "      <th>7</th>\n",
       "      <td>Tailandia</td>\n",
       "      <td>132</td>\n",
       "      <td>175</td>\n",
       "      <td>278</td>\n",
       "      <td>585</td>\n",
       "    </tr>\n",
       "    <tr>\n",
       "      <th>8</th>\n",
       "      <td>Indonesia</td>\n",
       "      <td>112</td>\n",
       "      <td>131</td>\n",
       "      <td>240</td>\n",
       "      <td>483</td>\n",
       "    </tr>\n",
       "    <tr>\n",
       "      <th>9</th>\n",
       "      <td>China Taipéi</td>\n",
       "      <td>99</td>\n",
       "      <td>144</td>\n",
       "      <td>276</td>\n",
       "      <td>519</td>\n",
       "    </tr>\n",
       "    <tr>\n",
       "      <th>10</th>\n",
       "      <td>Corea del Norte</td>\n",
       "      <td>91</td>\n",
       "      <td>120</td>\n",
       "      <td>235</td>\n",
       "      <td>446</td>\n",
       "    </tr>\n",
       "  </tbody>\n",
       "</table>\n",
       "</div>"
      ],
      "text/plain": [
       "               País   Oro  Plata  Bronce  Total\n",
       "1             China  1473    994     720   3187\n",
       "2             Japón  1032   1037     985   3054\n",
       "3     Corea del Sur   745    663     827   2235\n",
       "4              Irán   179    181     197    557\n",
       "5        Kazajistán   155    158     224    537\n",
       "6             India   154    202     315    671\n",
       "7         Tailandia   132    175     278    585\n",
       "8         Indonesia   112    131     240    483\n",
       "9      China Taipéi    99    144     276    519\n",
       "10  Corea del Norte    91    120     235    446"
      ]
     },
     "execution_count": 12,
     "metadata": {},
     "output_type": "execute_result"
    }
   ],
   "source": [
    "# Solo podemos usar el '.Columna' cuando la columna tiene apenas un nombre\n",
    "df_medallas['Total'] = df_medallas.Oro + df_medallas.Plata + df_medallas.Bronce\n",
    "df_medallas"
   ]
  }
 ],
 "metadata": {
  "kernelspec": {
   "display_name": "base",
   "language": "python",
   "name": "python3"
  },
  "language_info": {
   "codemirror_mode": {
    "name": "ipython",
    "version": 3
   },
   "file_extension": ".py",
   "mimetype": "text/x-python",
   "name": "python",
   "nbconvert_exporter": "python",
   "pygments_lexer": "ipython3",
   "version": "3.12.2"
  }
 },
 "nbformat": 4,
 "nbformat_minor": 2
}
