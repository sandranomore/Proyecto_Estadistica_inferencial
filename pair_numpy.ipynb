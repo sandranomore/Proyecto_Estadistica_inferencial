{
 "cells": [
  {
   "cell_type": "code",
   "execution_count": 2,
   "metadata": {},
   "outputs": [],
   "source": [
    "import numpy as np"
   ]
  },
  {
   "cell_type": "markdown",
   "metadata": {},
   "source": [
    "-------------------------Creación y Indexación------------------------------"
   ]
  },
  {
   "cell_type": "markdown",
   "metadata": {},
   "source": [
    "1. Crea un array 1D con 50 valores aleatorio del 10 al 99. Accede a los elementos en las posiciones múltiplos de 5."
   ]
  },
  {
   "cell_type": "code",
   "execution_count": 33,
   "metadata": {},
   "outputs": [
    {
     "name": "stdout",
     "output_type": "stream",
     "text": [
      "[[99 84 14 57 40]\n",
      " [42 15 85 68 12]\n",
      " [86 82 32 71 25]\n",
      " [95 24 62 80 78]\n",
      " [14 80 49 84 14]]\n"
     ]
    },
    {
     "data": {
      "text/plain": [
       "array([99, 42, 86, 95, 14])"
      ]
     },
     "execution_count": 33,
     "metadata": {},
     "output_type": "execute_result"
    }
   ],
   "source": [
    "array_1d = np.random.randint(10,100,(5,5))\n",
    "\n",
    "print(array_1d)\n",
    "\n",
    "array_1d[:, 0]\n"
   ]
  },
  {
   "cell_type": "code",
   "execution_count": 34,
   "metadata": {},
   "outputs": [
    {
     "name": "stdout",
     "output_type": "stream",
     "text": [
      "[[99]\n",
      " [42]\n",
      " [86]\n",
      " [95]\n",
      " [14]]\n"
     ]
    }
   ],
   "source": [
    "print(array_1d[:,0::5])"
   ]
  },
  {
   "cell_type": "markdown",
   "metadata": {},
   "source": [
    "2. Crea un array 1D con 30 valores del 1 al 20 (ambos incluidos). Utiliza indexación para obtener los elementos en las posiciones impares."
   ]
  },
  {
   "cell_type": "code",
   "execution_count": 25,
   "metadata": {},
   "outputs": [
    {
     "name": "stdout",
     "output_type": "stream",
     "text": [
      "[[ 9 11  2  4 15  4]\n",
      " [15 15 11 12 11 11]\n",
      " [12  8  8  8 12 15]\n",
      " [11 20  1  1 14  3]\n",
      " [ 6  8  2 16  6 20]]\n"
     ]
    }
   ],
   "source": [
    "array_1d_2 = np.random.randint(1,21,(5,6))\n",
    "\n",
    "print(array_1d_2)"
   ]
  },
  {
   "cell_type": "code",
   "execution_count": 30,
   "metadata": {},
   "outputs": [
    {
     "data": {
      "text/plain": [
       "array([[11,  4,  4],\n",
       "       [15, 12, 11],\n",
       "       [ 8,  8, 15],\n",
       "       [20,  1,  3],\n",
       "       [ 8, 16, 20]])"
      ]
     },
     "execution_count": 30,
     "metadata": {},
     "output_type": "execute_result"
    }
   ],
   "source": [
    "array_1d_2[:,1::2]"
   ]
  },
  {
   "cell_type": "markdown",
   "metadata": {},
   "source": [
    "3. Crea un array 2D de forma (4, 6) con números aleatorios decimales (no deben estar comprendidos solo entre 0 y 1). Accede a la última fila de la matriz. Los decimales deben estar redondeados a 2 decimales."
   ]
  },
  {
   "cell_type": "code",
   "execution_count": 47,
   "metadata": {},
   "outputs": [
    {
     "name": "stdout",
     "output_type": "stream",
     "text": [
      "[[17.27 80.49 65.09 82.41 22.42 90.97]\n",
      " [ 1.51  2.35  6.4  89.16 71.79 57.3 ]\n",
      " [ 8.51  5.95 48.61  5.47 23.09 56.32]\n",
      " [59.35  8.57 50.19 45.29  8.33 89.86]]\n"
     ]
    }
   ],
   "source": [
    "array_2d = np.round(np.random.uniform(0, 100, (4,6)),2)\n",
    "\n",
    "print(array_2d)"
   ]
  },
  {
   "cell_type": "code",
   "execution_count": 48,
   "metadata": {},
   "outputs": [
    {
     "data": {
      "text/plain": [
       "array([59.35,  8.57, 50.19, 45.29,  8.33, 89.86])"
      ]
     },
     "execution_count": 48,
     "metadata": {},
     "output_type": "execute_result"
    }
   ],
   "source": [
    "array_2d[-1,:]"
   ]
  },
  {
   "cell_type": "markdown",
   "metadata": {},
   "source": [
    "BONUS: Crea un array 3D de forma (2, 3, 5) y 30 elementos con números enteros entre 0 y 100 (ambos incluidos). Reemplaza los elementos en posiciones múltiplos de 3 por 0."
   ]
  },
  {
   "cell_type": "code",
   "execution_count": null,
   "metadata": {},
   "outputs": [],
   "source": []
  },
  {
   "cell_type": "markdown",
   "metadata": {},
   "source": [
    "-------------------------Reshape y Transpose------------------------------"
   ]
  },
  {
   "cell_type": "markdown",
   "metadata": {},
   "source": [
    "\n",
    "1. Crea un array 3D de forma (2, 3, 4) con valores aleatorios entre 1 y 100 (ambos inclusive). Utiliza reshape para convertirlo en un array 2D. Deberás pensar en la forma que es correcta para hacer este cambio."
   ]
  },
  {
   "cell_type": "code",
   "execution_count": 57,
   "metadata": {},
   "outputs": [],
   "source": [
    "array_3d = np.random.randint(1,101,(2,3,4))\n"
   ]
  },
  {
   "cell_type": "code",
   "execution_count": 63,
   "metadata": {},
   "outputs": [
    {
     "name": "stdout",
     "output_type": "stream",
     "text": [
      "[[42 47  2 32]\n",
      " [56 90 51 12]\n",
      " [35 20 83 19]\n",
      " [11 47 88 84]\n",
      " [76 46 56  4]\n",
      " [28 61 72 12]]\n"
     ]
    }
   ],
   "source": [
    "array_2d = array_3d.reshape(6,4)\n",
    "\n",
    "print(array_2d)"
   ]
  },
  {
   "cell_type": "markdown",
   "metadata": {},
   "source": [
    "2. Crea un array 3D de forma (3, 4, 5) con valores enteros del 1 al 61 (sin incluir). Utiliza reshape para convertirlo en un array 2D."
   ]
  },
  {
   "cell_type": "code",
   "execution_count": 65,
   "metadata": {},
   "outputs": [
    {
     "data": {
      "text/plain": [
       "array([[[15, 13, 13, 38,  8],\n",
       "        [42, 17,  5, 60,  3],\n",
       "        [53, 44, 26, 58, 42],\n",
       "        [44, 37, 12, 31, 56]],\n",
       "\n",
       "       [[26, 34, 58, 44,  2],\n",
       "        [ 5,  7, 58, 43,  3],\n",
       "        [ 2, 35, 45, 31, 11],\n",
       "        [43, 41, 51, 10, 25]],\n",
       "\n",
       "       [[33, 19, 47, 56, 31],\n",
       "        [44, 26, 43, 19, 57],\n",
       "        [40, 35, 13, 55, 26],\n",
       "        [21,  2, 59, 25, 53]]])"
      ]
     },
     "execution_count": 65,
     "metadata": {},
     "output_type": "execute_result"
    }
   ],
   "source": [
    "array_3d_2 = np.random.randint(1,61,(3,4,5))\n",
    "\n",
    "array_3d_2"
   ]
  },
  {
   "cell_type": "code",
   "execution_count": 67,
   "metadata": {},
   "outputs": [
    {
     "name": "stdout",
     "output_type": "stream",
     "text": [
      "[[15 13 13 38  8 42]\n",
      " [17  5 60  3 53 44]\n",
      " [26 58 42 44 37 12]\n",
      " [31 56 26 34 58 44]\n",
      " [ 2  5  7 58 43  3]\n",
      " [ 2 35 45 31 11 43]\n",
      " [41 51 10 25 33 19]\n",
      " [47 56 31 44 26 43]\n",
      " [19 57 40 35 13 55]\n",
      " [26 21  2 59 25 53]]\n"
     ]
    }
   ],
   "source": [
    "array_2d_2 = array_3d_2.reshape(10,6)\n",
    "\n",
    "print(array_2d_2)"
   ]
  },
  {
   "cell_type": "markdown",
   "metadata": {},
   "source": [
    "3. Utiliza el array 3D del ejercicio 2 de reshape. Utiliza transpose para permutar los ejes y obtener un nuevo array con forma (5, 4, 3)."
   ]
  },
  {
   "cell_type": "code",
   "execution_count": null,
   "metadata": {},
   "outputs": [],
   "source": []
  },
  {
   "cell_type": "markdown",
   "metadata": {},
   "source": [
    "4. Utiliza el array 3D del ejercicio 2 de reshape. Utiliza transpose para cambiar el orden de los ejes y obtener un nuevo array con forma (3, 5, 4)."
   ]
  },
  {
   "cell_type": "markdown",
   "metadata": {},
   "source": [
    "--------------Preguntas teóricas-------------------------\n",
    "\n",
    "5. ¿Qué diferencia existe entre el reshape y el transpose?\n",
    "\n",
    "reshape: Cambia la forma del array sin alterar el orden de los elementos. Permite cambiar el número de dimensiones del array.\n",
    "transpose: Permuta los ejes del array, cambiando la disposición de los datos a lo largo de las dimensiones.\n",
    "\n",
    "6. ¿Y entre el transpose y el swapaxes?\n",
    "\n",
    "transpose: Permite permutar los ejes en cualquier orden, especificando el orden deseado de los ejes.\n",
    "swapaxes: Intercambia dos ejes específicos del array. Es útil cuando solo se necesitan intercambiar dos dimensiones específicas."
   ]
  },
  {
   "cell_type": "markdown",
   "metadata": {},
   "source": [
    "----------------------Funciones Aritméticas y Estadísticas-----------------------------"
   ]
  },
  {
   "cell_type": "markdown",
   "metadata": {},
   "source": [
    "1. Crea un array de tres 3D con elementos entre el 0 y 1 de forma (2, 3, 5) cuyos valores solo tengan 1 decimal."
   ]
  },
  {
   "cell_type": "code",
   "execution_count": null,
   "metadata": {},
   "outputs": [],
   "source": []
  },
  {
   "cell_type": "markdown",
   "metadata": {},
   "source": [
    "2. Crea un array vacío con la misma forma y dimensiones que el array creado anteriormente. Vamos a reemplazar los valores de la matriz vacía que nos acabamos de crear pero basándonos en los valores del primer array bajo las siguientes condiciones:\n",
    "\n",
    "Si el valor del array es igual que la media, se reemplaza por \"A\".\n",
    "\n",
    "Si el valor del array es mayor que la media, se reemplaza por \"B\".\n",
    "\n",
    "Si el valor del array es menor que la media, se reemplaza por \"C\".\n",
    "\n",
    "Si el valor es igual que el máximo, se reemplaza por \"D\".\n",
    "\n",
    "Si el valor es igual que el mínimo, se reemplaza por \"E\"."
   ]
  },
  {
   "cell_type": "code",
   "execution_count": null,
   "metadata": {},
   "outputs": [],
   "source": []
  }
 ],
 "metadata": {
  "kernelspec": {
   "display_name": "base",
   "language": "python",
   "name": "python3"
  },
  "language_info": {
   "codemirror_mode": {
    "name": "ipython",
    "version": 3
   },
   "file_extension": ".py",
   "mimetype": "text/x-python",
   "name": "python",
   "nbconvert_exporter": "python",
   "pygments_lexer": "ipython3",
   "version": "3.9.7"
  }
 },
 "nbformat": 4,
 "nbformat_minor": 2
}
