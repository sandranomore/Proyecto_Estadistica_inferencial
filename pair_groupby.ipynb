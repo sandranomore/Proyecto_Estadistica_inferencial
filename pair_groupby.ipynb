{
 "cells": [
  {
   "cell_type": "code",
   "execution_count": 1,
   "metadata": {},
   "outputs": [
    {
     "name": "stderr",
     "output_type": "stream",
     "text": [
      "/home/v_fischer/anaconda3/lib/python3.9/site-packages/pandas/core/computation/expressions.py:21: UserWarning: Pandas requires version '2.8.4' or newer of 'numexpr' (version '2.7.3' currently installed).\n",
      "  from pandas.core.computation.check import NUMEXPR_INSTALLED\n",
      "/home/v_fischer/anaconda3/lib/python3.9/site-packages/pandas/core/arrays/masked.py:60: UserWarning: Pandas requires version '1.3.6' or newer of 'bottleneck' (version '1.3.2' currently installed).\n",
      "  from pandas.core import (\n"
     ]
    }
   ],
   "source": [
    "import pandas as pd"
   ]
  },
  {
   "cell_type": "code",
   "execution_count": 2,
   "metadata": {},
   "outputs": [],
   "source": [
    "df2 = pd.read_csv(\"world_data_nuevo.csv\")"
   ]
  },
  {
   "cell_type": "code",
   "execution_count": 3,
   "metadata": {},
   "outputs": [],
   "source": [
    "# Las columnas land_area, armed_forces_size, co2-emissions, gdp, population, urban_population, latitude, longitude, density, cpi son de tipo object pero en realidad deberían ser numéricas. Crea una función que nos permita cambiar el tipo de dato de estas columnas al que le corresponde.\n",
    "\n",
    "# Definir la función para convertir columnas a numérico\n",
    "def convertir_a_numerico(data, columnas):\n",
    "    for columna in columnas:\n",
    "        data[columna] = pd.to_numeric(data[columna], errors='coerce')\n",
    "    return data"
   ]
  },
  {
   "cell_type": "code",
   "execution_count": 4,
   "metadata": {},
   "outputs": [
    {
     "data": {
      "text/plain": [
       "Index(['Unnamed: 0', 'country', 'density', 'abbreviation',\n",
       "       'agricultural_land(_%)', 'land_area', 'armed_forces_size', 'birth_rate',\n",
       "       'calling_code', 'capital/major_city', 'co2-emissions', 'cpi',\n",
       "       'cpi_change_', 'currency-code', 'fertility_rate', 'forested_area_',\n",
       "       'gasoline_price', 'gdp', 'gross_primary_education_enrollment_',\n",
       "       'gross_tertiary_education_enrollment_', 'infant_mortality',\n",
       "       'largest_city', 'life_expectancy', 'maternal_mortality_ratio',\n",
       "       'minimum_wage', 'official_language', 'out_of_pocket_health_expenditure',\n",
       "       'physicians_per_thousand', 'population',\n",
       "       'population_labor_force_participation_', 'tax_revenue_',\n",
       "       'total_tax_rate', 'unemployment_rate', 'urban_population', 'latitud',\n",
       "       'longitud', 'continent'],\n",
       "      dtype='object')"
      ]
     },
     "execution_count": 4,
     "metadata": {},
     "output_type": "execute_result"
    }
   ],
   "source": [
    "df2.columns"
   ]
  },
  {
   "cell_type": "code",
   "execution_count": 5,
   "metadata": {},
   "outputs": [],
   "source": [
    "columnas_a_convertir = ['land_area', 'armed_forces_size', 'co2-emissions', 'gdp', 'population', 'urban_population', 'latitud', 'longitud', 'density', 'cpi']"
   ]
  },
  {
   "cell_type": "code",
   "execution_count": 6,
   "metadata": {},
   "outputs": [],
   "source": [
    "df2 = convertir_a_numerico(df2, columnas_a_convertir)\n"
   ]
  },
  {
   "cell_type": "code",
   "execution_count": 7,
   "metadata": {},
   "outputs": [
    {
     "name": "stdout",
     "output_type": "stream",
     "text": [
      "<class 'pandas.core.frame.DataFrame'>\n",
      "RangeIndex: 195 entries, 0 to 194\n",
      "Data columns (total 37 columns):\n",
      " #   Column                                 Non-Null Count  Dtype  \n",
      "---  ------                                 --------------  -----  \n",
      " 0   Unnamed: 0                             195 non-null    int64  \n",
      " 1   country                                195 non-null    object \n",
      " 2   density                                188 non-null    float64\n",
      " 3   abbreviation                           188 non-null    object \n",
      " 4   agricultural_land(_%)                  188 non-null    float64\n",
      " 5   land_area                              25 non-null     float64\n",
      " 6   armed_forces_size                      5 non-null      float64\n",
      " 7   birth_rate                             189 non-null    float64\n",
      " 8   calling_code                           194 non-null    float64\n",
      " 9   capital/major_city                     192 non-null    object \n",
      " 10  co2-emissions                          30 non-null     float64\n",
      " 11  cpi                                    175 non-null    float64\n",
      " 12  cpi_change_                            179 non-null    float64\n",
      " 13  currency-code                          180 non-null    object \n",
      " 14  fertility_rate                         188 non-null    float64\n",
      " 15  forested_area_                         188 non-null    float64\n",
      " 16  gasoline_price                         175 non-null    float64\n",
      " 17  gdp                                    0 non-null      float64\n",
      " 18  gross_primary_education_enrollment_    188 non-null    float64\n",
      " 19  gross_tertiary_education_enrollment_   183 non-null    float64\n",
      " 20  infant_mortality                       189 non-null    float64\n",
      " 21  largest_city                           189 non-null    object \n",
      " 22  life_expectancy                        187 non-null    float64\n",
      " 23  maternal_mortality_ratio               181 non-null    float64\n",
      " 24  minimum_wage                           150 non-null    float64\n",
      " 25  official_language                      190 non-null    object \n",
      " 26  out_of_pocket_health_expenditure       188 non-null    float64\n",
      " 27  physicians_per_thousand                188 non-null    float64\n",
      " 28  population                             1 non-null      float64\n",
      " 29  population_labor_force_participation_  176 non-null    float64\n",
      " 30  tax_revenue_                           169 non-null    float64\n",
      " 31  total_tax_rate                         183 non-null    float64\n",
      " 32  unemployment_rate                      176 non-null    float64\n",
      " 33  urban_population                       0 non-null      float64\n",
      " 34  latitud                                0 non-null      float64\n",
      " 35  longitud                               0 non-null      float64\n",
      " 36  continent                              2 non-null      object \n",
      "dtypes: float64(29), int64(1), object(7)\n",
      "memory usage: 56.5+ KB\n"
     ]
    }
   ],
   "source": [
    "df2.info()"
   ]
  },
  {
   "cell_type": "code",
   "execution_count": 8,
   "metadata": {},
   "outputs": [],
   "source": [
    "def add_continent(df):\n",
    "    continent_map = {\n",
    "        'United States': 'North America',\n",
    "        'China': 'Asia',\n",
    "        # Añadir más países y continentes según sea necesario\n",
    "    }\n",
    "    df['continent'] = df['country'].map(continent_map)\n",
    "    return df\n",
    "# Añadir la columna 'continent'\n",
    "df2 = add_continent(df2)"
   ]
  },
  {
   "cell_type": "code",
   "execution_count": 9,
   "metadata": {},
   "outputs": [],
   "source": [
    "df2.to_csv(\"world_data_nuevo.csv\", index=False)"
   ]
  },
  {
   "cell_type": "code",
   "execution_count": 10,
   "metadata": {},
   "outputs": [
    {
     "name": "stdout",
     "output_type": "stream",
     "text": [
      "continent\n",
      "Asia             153.0\n",
      "North America     36.0\n",
      "Name: density, dtype: float64\n"
     ]
    }
   ],
   "source": [
    "population_density_avg = df2.groupby('continent')['density'].mean()\n",
    "print(population_density_avg)"
   ]
  },
  {
   "cell_type": "code",
   "execution_count": 11,
   "metadata": {},
   "outputs": [
    {
     "name": "stdout",
     "output_type": "stream",
     "text": [
      "official_language\n",
      "Afrikaans            63.900000\n",
      "Albanian             78.500000\n",
      "Amharic              66.200000\n",
      "Arabic               72.864706\n",
      "Armenian             74.900000\n",
      "                       ...    \n",
      "Tuvaluan Language          NaN\n",
      "Ukrainian            71.600000\n",
      "Urdu                 67.100000\n",
      "Uzbek                71.600000\n",
      "Vietnamese           75.300000\n",
      "Name: life_expectancy, Length: 76, dtype: float64\n"
     ]
    }
   ],
   "source": [
    "life_expectancy_avg = df2.groupby('official_language')['life_expectancy'].mean()\n",
    "print(life_expectancy_avg)"
   ]
  },
  {
   "cell_type": "code",
   "execution_count": 12,
   "metadata": {},
   "outputs": [
    {
     "name": "stdout",
     "output_type": "stream",
     "text": [
      "currency-code\n",
      "AED     6.500000\n",
      "AFN    47.900000\n",
      "ALL     7.800000\n",
      "AMD    11.000000\n",
      "AOA    51.600000\n",
      "         ...    \n",
      "XCD    15.183333\n",
      "XOF    51.512500\n",
      "YER    42.900000\n",
      "ZAR    28.500000\n",
      "ZMW    40.400000\n",
      "Name: infant_mortality, Length: 133, dtype: float64\n"
     ]
    }
   ],
   "source": [
    "infant_mortality_avg = df2.groupby('currency-code')['infant_mortality'].mean()\n",
    "print(infant_mortality_avg)"
   ]
  },
  {
   "cell_type": "code",
   "execution_count": 13,
   "metadata": {},
   "outputs": [
    {
     "name": "stdout",
     "output_type": "stream",
     "text": [
      "continent\n",
      "Asia             0.87\n",
      "North America    7.25\n",
      "Name: minimum_wage, dtype: float64\n"
     ]
    }
   ],
   "source": [
    "minimum_wage_avg = df2.groupby('continent')['minimum_wage'].mean()\n",
    "print(minimum_wage_avg)"
   ]
  },
  {
   "cell_type": "code",
   "execution_count": 14,
   "metadata": {},
   "outputs": [
    {
     "name": "stdout",
     "output_type": "stream",
     "text": [
      "continent\n",
      "Asia             0.386928\n",
      "North America    1.016667\n",
      "Name: tax_density_ratio, dtype: float64\n"
     ]
    }
   ],
   "source": [
    "df2['tax_density_ratio'] = df2['total_tax_rate'] / df2['density']\n",
    "max_tax_density_ratio = df2.groupby('continent')['tax_density_ratio'].max()\n",
    "print(max_tax_density_ratio)"
   ]
  },
  {
   "cell_type": "code",
   "execution_count": 15,
   "metadata": {},
   "outputs": [
    {
     "name": "stdout",
     "output_type": "stream",
     "text": [
      "continent\n",
      "Asia            NaN\n",
      "North America   NaN\n",
      "Name: urban_population, dtype: float64\n"
     ]
    }
   ],
   "source": [
    "urban_population_avg = df2.groupby('continent')['urban_population'].mean()\n",
    "print(urban_population_avg)"
   ]
  },
  {
   "cell_type": "code",
   "execution_count": 16,
   "metadata": {},
   "outputs": [
    {
     "name": "stdout",
     "output_type": "stream",
     "text": [
      "official_language\n",
      "Afrikaans           NaN\n",
      "Albanian            NaN\n",
      "Amharic             NaN\n",
      "Arabic              NaN\n",
      "Armenian            NaN\n",
      "                     ..\n",
      "Tuvaluan Language   NaN\n",
      "Ukrainian           NaN\n",
      "Urdu                NaN\n",
      "Uzbek               NaN\n",
      "Vietnamese          NaN\n",
      "Name: gdp_health_diff, Length: 76, dtype: float64\n"
     ]
    }
   ],
   "source": [
    "# 7\n",
    "df_grouped = df2.groupby('official_language').agg({\n",
    "    'gdp': 'mean',\n",
    "    'out_of_pocket_health_expenditure': 'mean'\n",
    "})\n",
    "df_grouped['gdp_health_diff'] = df_grouped['gdp'] - df_grouped['out_of_pocket_health_expenditure']\n",
    "print(df_grouped['gdp_health_diff'])"
   ]
  },
  {
   "cell_type": "code",
   "execution_count": 18,
   "metadata": {},
   "outputs": [],
   "source": [
    "df2.to_csv(\"world_data_nuevo.csv\")"
   ]
  }
 ],
 "metadata": {
  "kernelspec": {
   "display_name": "Python 3",
   "language": "python",
   "name": "python3"
  },
  "language_info": {
   "codemirror_mode": {
    "name": "ipython",
    "version": 3
   },
   "file_extension": ".py",
   "mimetype": "text/x-python",
   "name": "python",
   "nbconvert_exporter": "python",
   "pygments_lexer": "ipython3",
   "version": "3.9.7"
  }
 },
 "nbformat": 4,
 "nbformat_minor": 2
}
